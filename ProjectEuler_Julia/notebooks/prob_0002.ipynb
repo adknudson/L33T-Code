{
 "cells": [
  {
   "cell_type": "code",
   "execution_count": 3,
   "metadata": {},
   "outputs": [
    {
     "data": {
      "text/plain": [
       "fib (generic function with 2 methods)"
      ]
     },
     "metadata": {},
     "output_type": "display_data"
    }
   ],
   "source": [
    "function fib(n, cache=Dict{Int, Int}())\n",
    "    n == 0 && return big(0)\n",
    "    n == 1 && return big(1)\n",
    "    n == 2 && return big(2)\n",
    "\n",
    "    haskey(cache, n) && return cache[n]\n",
    "\n",
    "    f = fib(n - 1, cache) + fib(n - 2, cache)\n",
    "    cache[n] = f\n",
    "    return f\n",
    "end "
   ]
  },
  {
   "cell_type": "code",
   "execution_count": 4,
   "metadata": {},
   "outputs": [],
   "source": [
    "struct Fib\n",
    "    cache::Dict{Int, BigInt}\n",
    "    Fib() = new(Dict{Int,BigInt}())\n",
    "end\n",
    "\n",
    "(f::Fib)(n::Int) = fib(n, f.cache)"
   ]
  },
  {
   "cell_type": "code",
   "execution_count": 44,
   "metadata": {},
   "outputs": [
    {
     "data": {
      "text/plain": [
       "sum_even_less_than (generic function with 1 method)"
      ]
     },
     "metadata": {},
     "output_type": "display_data"
    }
   ],
   "source": [
    "function sum_even_less_than(n::Int, f=Fib())\n",
    "    Iterators.map(f, Iterators.countfrom(1)) |> \n",
    "        itr -> Iterators.filter(iseven, itr) |>\n",
    "        itr -> Iterators.takewhile(<(n), itr) |> \n",
    "        sum\n",
    "end"
   ]
  },
  {
   "cell_type": "code",
   "execution_count": 45,
   "metadata": {},
   "outputs": [
    {
     "data": {
      "text/plain": [
       "4613732"
      ]
     },
     "metadata": {},
     "output_type": "display_data"
    }
   ],
   "source": [
    "sum_even_less_than(4_000_000)"
   ]
  }
 ],
 "metadata": {
  "kernelspec": {
   "display_name": "Julia 1.10.2",
   "language": "julia",
   "name": "julia-1.10"
  },
  "language_info": {
   "file_extension": ".jl",
   "mimetype": "application/julia",
   "name": "julia",
   "version": "1.10.2"
  },
  "orig_nbformat": 4
 },
 "nbformat": 4,
 "nbformat_minor": 2
}
