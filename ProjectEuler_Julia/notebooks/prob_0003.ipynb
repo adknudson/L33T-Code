{
 "cells": [
  {
   "cell_type": "code",
   "execution_count": 7,
   "metadata": {},
   "outputs": [
    {
     "data": {
      "text/plain": [
       "generate_primes (generic function with 1 method)"
      ]
     },
     "metadata": {},
     "output_type": "display_data"
    }
   ],
   "source": [
    "function generate_primes(n::Int)\n",
    "    ps = collect(2:n)\n",
    "    bs = BitVector(fill(true, length(ps)))\n",
    "\n",
    "    sqrtn = sqrt(n)\n",
    "\n",
    "    i = 2\n",
    "    while i <= sqrtn\n",
    "        if bs[i-1] == true\n",
    "            j = i^2\n",
    "            while j <= n\n",
    "                bs[j-1] = false\n",
    "                j += i\n",
    "            end\n",
    "        end\n",
    "        i += 1\n",
    "    end\n",
    "\n",
    "    return ps[bs]\n",
    "end"
   ]
  },
  {
   "cell_type": "code",
   "execution_count": 18,
   "metadata": {},
   "outputs": [
    {
     "data": {
      "text/plain": [
       "prime_factors (generic function with 1 method)"
      ]
     },
     "metadata": {},
     "output_type": "display_data"
    }
   ],
   "source": [
    "function prime_factors(k::Int)\n",
    "    n = round(Int, sqrt(k), RoundUp)\n",
    "    primes = generate_primes(n)\n",
    "    \n",
    "    ps = Int[]\n",
    "\n",
    "    while k != 1\n",
    "        for p in primes\n",
    "            k % p != 0 && continue\n",
    "            push!(ps, p)\n",
    "            k = k ÷ p\n",
    "            break\n",
    "        end\n",
    "    end\n",
    "\n",
    "    return maximum(ps)\n",
    "end"
   ]
  },
  {
   "cell_type": "code",
   "execution_count": 19,
   "metadata": {},
   "outputs": [
    {
     "data": {
      "text/plain": [
       "6857"
      ]
     },
     "metadata": {},
     "output_type": "display_data"
    }
   ],
   "source": [
    "prime_factors(600851475143)"
   ]
  },
  {
   "cell_type": "code",
   "execution_count": null,
   "metadata": {},
   "outputs": [],
   "source": []
  }
 ],
 "metadata": {
  "kernelspec": {
   "display_name": "Julia 1.10.2",
   "language": "julia",
   "name": "julia-1.10"
  },
  "language_info": {
   "file_extension": ".jl",
   "mimetype": "application/julia",
   "name": "julia",
   "version": "1.10.2"
  },
  "orig_nbformat": 4
 },
 "nbformat": 4,
 "nbformat_minor": 2
}
