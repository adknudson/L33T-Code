{
 "cells": [
  {
   "cell_type": "code",
   "execution_count": 24,
   "metadata": {},
   "outputs": [
    {
     "data": {
      "text/plain": [
       "is_palindrome (generic function with 1 method)"
      ]
     },
     "metadata": {},
     "output_type": "display_data"
    }
   ],
   "source": [
    "function is_palindrome(k::Int)\n",
    "    r = parse(Int, reverse(string(k)))\n",
    "    return k == r\n",
    "end"
   ]
  },
  {
   "cell_type": "code",
   "execution_count": 30,
   "metadata": {},
   "outputs": [
    {
     "data": {
      "text/plain": [
       "largest_palindrome (generic function with 1 method)"
      ]
     },
     "metadata": {},
     "output_type": "display_data"
    }
   ],
   "source": [
    "function largest_palindrome(n)\n",
    "    hi = 10^n - 1\n",
    "    lo = 10^(n-1)\n",
    "\n",
    "    max_p = 1\n",
    "    \n",
    "    for k in hi:-1:lo\n",
    "        for m in k:-1:lo\n",
    "            p = k*m\n",
    "            is_palindrome(p) || continue\n",
    "            if p > max_p\n",
    "                max_p = p\n",
    "            end\n",
    "        end\n",
    "    end\n",
    "\n",
    "    return max_p\n",
    "end"
   ]
  },
  {
   "cell_type": "code",
   "execution_count": 32,
   "metadata": {},
   "outputs": [
    {
     "data": {
      "text/plain": [
       "906609"
      ]
     },
     "metadata": {},
     "output_type": "display_data"
    }
   ],
   "source": [
    "largest_palindrome(3)"
   ]
  }
 ],
 "metadata": {
  "kernelspec": {
   "display_name": "Julia 1.10.2",
   "language": "julia",
   "name": "julia-1.10"
  },
  "language_info": {
   "file_extension": ".jl",
   "mimetype": "application/julia",
   "name": "julia",
   "version": "1.10.2"
  },
  "orig_nbformat": 4
 },
 "nbformat": 4,
 "nbformat_minor": 2
}
